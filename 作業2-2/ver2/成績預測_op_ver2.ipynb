{
  "nbformat": 4,
  "nbformat_minor": 0,
  "metadata": {
    "colab": {
      "name": "成績預測-op.ipynb",
      "provenance": [],
      "collapsed_sections": [],
      "toc_visible": true
    },
    "kernelspec": {
      "name": "python385jvsc74a57bd0dca0ade3e726a953b501b15e8e990130d2b7799f14cfd9f4271676035ebe5511",
      "display_name": "Python 3.8.5 64-bit ('base': conda)"
    }
  },
  "cells": [
    {
      "cell_type": "markdown",
      "metadata": {
        "id": "jBKy3YzDDlHa"
      },
      "source": [
        "## 匯入套件"
      ]
    },
    {
      "cell_type": "code",
      "metadata": {
        "id": "fL-m0tQmOoF3"
      },
      "source": [
        "# 匯入keras\n",
        "from tensorflow import keras\n",
        " \n",
        "# 以下為做DNN常引入的重要模組\n",
        "from sklearn.model_selection import train_test_split\n",
        "from tensorflow.keras.models import Sequential\n",
        "from tensorflow.keras.layers import Dense\n",
        " \n",
        "import pandas as pd # 資料處理套件\n",
        "import matplotlib.pyplot as plt # 繪圖套件"
      ],
      "execution_count": 1,
      "outputs": []
    },
    {
      "cell_type": "markdown",
      "metadata": {
        "id": "6Te7FnthNY0d"
      },
      "source": [
        "## 讀入資料、處理"
      ]
    },
    {
      "cell_type": "code",
      "metadata": {
        "id": "PAWdZYEgYlMY",
        "colab": {
          "base_uri": "https://localhost:8080/"
        },
        "outputId": "18f73434-57a7-4cd8-ecf8-b7f27a7e133c"
      },
      "source": [
        "# 讀入資料集 - \"grades.csv\" (在首頁連結第 2 階段課程其他資料：https://drive.google.com/drive/u/1/folders/1KFEBnGxpEWBSai8HnXkNrzvziKgsQbe8)\n",
        "# 原始資料檔已經有欄位標籤，不須要另外加上\n",
        "data0 = pd.read_csv('grades.csv')\n",
        "print(\"欄:\", len(data0.columns))\n",
        "print(\"列:\", len(data0))"
      ],
      "execution_count": 2,
      "outputs": [
        {
          "output_type": "stream",
          "text": [
            "欄: 33\n",
            "列: 395\n"
          ],
          "name": "stdout"
        }
      ]
    },
    {
      "cell_type": "code",
      "metadata": {
        "id": "-vfAIGlANY0e",
        "colab": {
          "base_uri": "https://localhost:8080/"
        },
        "outputId": "6356e681-aa64-4d70-8887-e81d8dfd9123"
      },
      "source": [
        "# 非數字資料編碼成數字 (one-hot encoding: https://medium.com/@PatHuang/初學python手記-3-資料前處理-label-encoding-one-hot-encoding-85c983d63f87)\n",
        "data = pd.get_dummies (data0)\n",
        "print(\"原來有哪些欄位\")\n",
        "print(data0.columns)\n",
        "print(\"One-hot encoding 後的欄位\")\n",
        "print(data.columns)\n",
        "print(\"例如原來 shcool 欄位本有哪些值\")\n",
        "print(data0.school)"
      ],
      "execution_count": 3,
      "outputs": [
        {
          "output_type": "stream",
          "text": [
            "原來有哪些欄位\n",
            "Index(['school', 'sex', 'age', 'address', 'famsize', 'Pstatus', 'Medu', 'Fedu',\n",
            "       'Mjob', 'Fjob', 'reason', 'guardian', 'traveltime', 'studytime',\n",
            "       'failures', 'schoolsup', 'famsup', 'paid', 'activities', 'nursery',\n",
            "       'higher', 'internet', 'romantic', 'famrel', 'freetime', 'goout', 'Dalc',\n",
            "       'Walc', 'health', 'absences', 'Tech', 'Math', 'Eng'],\n",
            "      dtype='object')\n",
            "One-hot encoding 後的欄位\n",
            "Index(['age', 'Medu', 'Fedu', 'traveltime', 'studytime', 'failures', 'famrel',\n",
            "       'freetime', 'goout', 'Dalc', 'Walc', 'health', 'absences', 'Tech',\n",
            "       'Math', 'Eng', 'school_大同', 'school_松山', 'sex_F', 'sex_M', 'address_R',\n",
            "       'address_U', 'famsize_GT3', 'famsize_LE3', 'Pstatus_A', 'Pstatus_T',\n",
            "       'Mjob_at_home', 'Mjob_health', 'Mjob_other', 'Mjob_services',\n",
            "       'Mjob_teacher', 'Fjob_at_home', 'Fjob_health', 'Fjob_other',\n",
            "       'Fjob_services', 'Fjob_teacher', 'reason_course', 'reason_home',\n",
            "       'reason_other', 'reason_reputation', 'guardian_father',\n",
            "       'guardian_mother', 'guardian_other', 'schoolsup_no', 'schoolsup_yes',\n",
            "       'famsup_no', 'famsup_yes', 'paid_no', 'paid_yes', 'activities_no',\n",
            "       'activities_yes', 'nursery_no', 'nursery_yes', 'higher_no',\n",
            "       'higher_yes', 'internet_no', 'internet_yes', 'romantic_no',\n",
            "       'romantic_yes'],\n",
            "      dtype='object')\n",
            "例如原來 shcool 欄位本有哪些值\n",
            "0      松山\n",
            "1      松山\n",
            "2      松山\n",
            "3      松山\n",
            "4      松山\n",
            "       ..\n",
            "390    大同\n",
            "391    大同\n",
            "392    大同\n",
            "393    大同\n",
            "394    大同\n",
            "Name: school, Length: 395, dtype: object\n"
          ],
          "name": "stdout"
        }
      ]
    },
    {
      "cell_type": "markdown",
      "metadata": {
        "id": "jWj1vQGJNY0e"
      },
      "source": [
        "```\n",
        "data_df.drop(['Tech','Math','Eng'], axis=1)\n",
        "```\n",
        "會回傳捨去 'Tech','Math','Eng' 三個欄位的資料\n",
        "```\n",
        "data[['Tech','Math','Eng']]\n",
        "```\n",
        "會取得 'Tech','Math','Eng' 三個欄位的資料"
      ]
    },
    {
      "cell_type": "code",
      "metadata": {
        "id": "XMj1Ta8ZiNjG"
      },
      "source": [
        "# 分割測試、訓練資料\n",
        "train_i, test_i, train_o, test_o = train_test_split (\n",
        "    data.drop(['Tech','Math','Eng'], axis=1),     # 特徵\n",
        "    data[['Tech','Math','Eng']],   # 結果\n",
        "    test_size = 0.3  #測試資料占 1/5\n",
        ")"
      ],
      "execution_count": 49,
      "outputs": []
    },
    {
      "cell_type": "markdown",
      "metadata": {
        "id": "Ho9sg49TfN1Y"
      },
      "source": [
        "## 類神經網路模型建構與訓練"
      ]
    },
    {
      "cell_type": "code",
      "metadata": {
        "id": "9t-bvp1tfhV8"
      },
      "source": [
        "#模型初始化\n",
        "model = Sequential()\n",
        "#類神經網路建構\n",
        "model.add(Dense(20, input_dim=len(train_i.columns)))\n",
        "\n",
        "model.add(Dense(13,activation=\"swish\"))\n",
        "model.add(Dense(12,activation=\"swish\"))\n",
        "model.add(Dense(10,activation=\"swish\"))\n",
        "model.add(Dense(8,activation=\"swish\"))\n",
        "model.add(Dense(5,activation=\"swish\"))\n",
        "\n",
        "model.add(Dense(3))"
      ],
      "execution_count": 50,
      "outputs": []
    },
    {
      "cell_type": "code",
      "metadata": {
        "id": "ASLg1h5_lwSd"
      },
      "source": [
        "#類神經網路編譯\n",
        "model.compile(loss=\"mse\", optimizer='adam')"
      ],
      "execution_count": 51,
      "outputs": []
    },
    {
      "cell_type": "code",
      "metadata": {
        "id": "TW_j8WGAl1HY"
      },
      "source": [
        "#類神經網路視覺化\n",
        "from tensorflow.keras.utils import plot_model\n",
        "plot_model(model,show_shapes=True)"
      ],
      "execution_count": null,
      "outputs": []
    },
    {
      "cell_type": "code",
      "metadata": {
        "id": "y1UValO5l7Dd",
        "colab": {
          "base_uri": "https://localhost:8080/"
        },
        "outputId": "c525a336-a849-457e-ff38-bd5694e1d876"
      },
      "source": [
        "#模型訓練\n",
        "history = model.fit(train_i,train_o,    #輸入與輸出\n",
        "  epochs = 70,      #迭代數\n",
        "  verbose = 1,      #顯示訓練過程\n",
        "  validation_split = 0.3, #驗證資料分割比例\n",
        ")"
      ],
      "execution_count": 52,
      "outputs": [
        {
          "output_type": "stream",
          "text": [
            "Epoch 1/70\n",
            "7/7 [==============================] - 1s 31ms/step - loss: 127.1083 - val_loss: 116.2040\n",
            "Epoch 2/70\n",
            "7/7 [==============================] - 0s 5ms/step - loss: 115.2926 - val_loss: 103.3845\n",
            "Epoch 3/70\n",
            "7/7 [==============================] - 0s 4ms/step - loss: 102.0661 - val_loss: 91.0682\n",
            "Epoch 4/70\n",
            "7/7 [==============================] - 0s 4ms/step - loss: 89.7226 - val_loss: 80.7893\n",
            "Epoch 5/70\n",
            "7/7 [==============================] - 0s 4ms/step - loss: 78.9857 - val_loss: 73.0804\n",
            "Epoch 6/70\n",
            "7/7 [==============================] - 0s 4ms/step - loss: 71.5782 - val_loss: 66.8882\n",
            "Epoch 7/70\n",
            "7/7 [==============================] - 0s 4ms/step - loss: 65.4352 - val_loss: 62.1964\n",
            "Epoch 8/70\n",
            "7/7 [==============================] - 0s 4ms/step - loss: 61.2088 - val_loss: 59.0652\n",
            "Epoch 9/70\n",
            "7/7 [==============================] - 0s 5ms/step - loss: 57.7571 - val_loss: 55.7813\n",
            "Epoch 10/70\n",
            "7/7 [==============================] - 0s 5ms/step - loss: 54.5424 - val_loss: 52.6511\n",
            "Epoch 11/70\n",
            "7/7 [==============================] - 0s 4ms/step - loss: 51.4031 - val_loss: 49.5809\n",
            "Epoch 12/70\n",
            "7/7 [==============================] - 0s 4ms/step - loss: 47.8912 - val_loss: 47.0823\n",
            "Epoch 13/70\n",
            "7/7 [==============================] - 0s 4ms/step - loss: 45.0208 - val_loss: 45.1164\n",
            "Epoch 14/70\n",
            "7/7 [==============================] - 0s 4ms/step - loss: 42.7392 - val_loss: 41.9382\n",
            "Epoch 15/70\n",
            "7/7 [==============================] - 0s 5ms/step - loss: 39.2411 - val_loss: 38.7024\n",
            "Epoch 16/70\n",
            "7/7 [==============================] - 0s 5ms/step - loss: 36.9353 - val_loss: 36.4356\n",
            "Epoch 17/70\n",
            "7/7 [==============================] - 0s 5ms/step - loss: 34.5299 - val_loss: 34.5494\n",
            "Epoch 18/70\n",
            "7/7 [==============================] - 0s 5ms/step - loss: 32.3205 - val_loss: 33.2766\n",
            "Epoch 19/70\n",
            "7/7 [==============================] - 0s 4ms/step - loss: 30.4194 - val_loss: 31.0682\n",
            "Epoch 20/70\n",
            "7/7 [==============================] - 0s 5ms/step - loss: 28.1554 - val_loss: 29.0066\n",
            "Epoch 21/70\n",
            "7/7 [==============================] - 0s 4ms/step - loss: 26.3329 - val_loss: 27.5007\n",
            "Epoch 22/70\n",
            "7/7 [==============================] - 0s 5ms/step - loss: 24.9127 - val_loss: 26.3458\n",
            "Epoch 23/70\n",
            "7/7 [==============================] - 0s 4ms/step - loss: 23.2107 - val_loss: 24.5830\n",
            "Epoch 24/70\n",
            "7/7 [==============================] - 0s 8ms/step - loss: 21.7830 - val_loss: 23.2756\n",
            "Epoch 25/70\n",
            "7/7 [==============================] - 0s 4ms/step - loss: 20.7794 - val_loss: 22.0582\n",
            "Epoch 26/70\n",
            "7/7 [==============================] - 0s 4ms/step - loss: 19.4932 - val_loss: 21.6613\n",
            "Epoch 27/70\n",
            "7/7 [==============================] - 0s 5ms/step - loss: 18.7377 - val_loss: 20.7956\n",
            "Epoch 28/70\n",
            "7/7 [==============================] - 0s 4ms/step - loss: 17.8102 - val_loss: 19.7658\n",
            "Epoch 29/70\n",
            "7/7 [==============================] - 0s 4ms/step - loss: 17.1256 - val_loss: 19.4186\n",
            "Epoch 30/70\n",
            "7/7 [==============================] - 0s 4ms/step - loss: 16.4739 - val_loss: 19.2109\n",
            "Epoch 31/70\n",
            "7/7 [==============================] - 0s 5ms/step - loss: 15.9530 - val_loss: 18.2391\n",
            "Epoch 32/70\n",
            "7/7 [==============================] - 0s 5ms/step - loss: 15.4324 - val_loss: 17.9327\n",
            "Epoch 33/70\n",
            "7/7 [==============================] - 0s 5ms/step - loss: 15.0440 - val_loss: 17.7835\n",
            "Epoch 34/70\n",
            "7/7 [==============================] - 0s 5ms/step - loss: 14.7676 - val_loss: 17.0667\n",
            "Epoch 35/70\n",
            "7/7 [==============================] - 0s 5ms/step - loss: 14.3477 - val_loss: 16.8380\n",
            "Epoch 36/70\n",
            "7/7 [==============================] - 0s 5ms/step - loss: 14.0096 - val_loss: 16.8502\n",
            "Epoch 37/70\n",
            "7/7 [==============================] - 0s 4ms/step - loss: 13.7674 - val_loss: 16.4168\n",
            "Epoch 38/70\n",
            "7/7 [==============================] - 0s 4ms/step - loss: 13.4957 - val_loss: 16.7226\n",
            "Epoch 39/70\n",
            "7/7 [==============================] - 0s 5ms/step - loss: 13.5365 - val_loss: 18.0134\n",
            "Epoch 40/70\n",
            "7/7 [==============================] - 0s 5ms/step - loss: 14.0855 - val_loss: 17.1534\n",
            "Epoch 41/70\n",
            "7/7 [==============================] - 0s 4ms/step - loss: 12.8653 - val_loss: 15.8863\n",
            "Epoch 42/70\n",
            "7/7 [==============================] - 0s 6ms/step - loss: 12.7080 - val_loss: 15.8199\n",
            "Epoch 43/70\n",
            "7/7 [==============================] - 0s 5ms/step - loss: 12.4494 - val_loss: 16.0205\n",
            "Epoch 44/70\n",
            "7/7 [==============================] - 0s 5ms/step - loss: 12.3563 - val_loss: 15.6499\n",
            "Epoch 45/70\n",
            "7/7 [==============================] - 0s 4ms/step - loss: 12.1345 - val_loss: 15.5245\n",
            "Epoch 46/70\n",
            "7/7 [==============================] - 0s 4ms/step - loss: 12.4765 - val_loss: 15.5068\n",
            "Epoch 47/70\n",
            "7/7 [==============================] - 0s 4ms/step - loss: 12.1055 - val_loss: 16.1886\n",
            "Epoch 48/70\n",
            "7/7 [==============================] - 0s 5ms/step - loss: 12.2444 - val_loss: 16.6200\n",
            "Epoch 49/70\n",
            "7/7 [==============================] - 0s 5ms/step - loss: 12.0847 - val_loss: 15.3447\n",
            "Epoch 50/70\n",
            "7/7 [==============================] - 0s 8ms/step - loss: 11.9872 - val_loss: 15.4287\n",
            "Epoch 51/70\n",
            "7/7 [==============================] - 0s 4ms/step - loss: 12.1951 - val_loss: 17.1463\n",
            "Epoch 52/70\n",
            "7/7 [==============================] - 0s 4ms/step - loss: 12.0155 - val_loss: 15.4442\n",
            "Epoch 53/70\n",
            "7/7 [==============================] - 0s 4ms/step - loss: 11.4678 - val_loss: 15.2362\n",
            "Epoch 54/70\n",
            "7/7 [==============================] - 0s 4ms/step - loss: 12.2846 - val_loss: 15.2521\n",
            "Epoch 55/70\n",
            "7/7 [==============================] - 0s 4ms/step - loss: 11.4806 - val_loss: 15.7841\n",
            "Epoch 56/70\n",
            "7/7 [==============================] - 0s 5ms/step - loss: 11.5903 - val_loss: 16.1974\n",
            "Epoch 57/70\n",
            "7/7 [==============================] - 0s 4ms/step - loss: 11.6099 - val_loss: 15.3934\n",
            "Epoch 58/70\n",
            "7/7 [==============================] - 0s 4ms/step - loss: 11.3537 - val_loss: 15.2228\n",
            "Epoch 59/70\n",
            "7/7 [==============================] - 0s 6ms/step - loss: 11.5945 - val_loss: 15.6637\n",
            "Epoch 60/70\n",
            "7/7 [==============================] - 0s 5ms/step - loss: 11.8457 - val_loss: 16.7133\n",
            "Epoch 61/70\n",
            "7/7 [==============================] - 0s 4ms/step - loss: 13.8965 - val_loss: 15.9301\n",
            "Epoch 62/70\n",
            "7/7 [==============================] - 0s 5ms/step - loss: 11.8912 - val_loss: 15.3164\n",
            "Epoch 63/70\n",
            "7/7 [==============================] - 0s 8ms/step - loss: 11.1460 - val_loss: 15.5514\n",
            "Epoch 64/70\n",
            "7/7 [==============================] - 0s 4ms/step - loss: 11.1320 - val_loss: 15.3503\n",
            "Epoch 65/70\n",
            "7/7 [==============================] - 0s 5ms/step - loss: 11.0829 - val_loss: 15.9550\n",
            "Epoch 66/70\n",
            "7/7 [==============================] - 0s 5ms/step - loss: 11.2700 - val_loss: 15.6249\n",
            "Epoch 67/70\n",
            "7/7 [==============================] - 0s 4ms/step - loss: 10.9667 - val_loss: 15.1509\n",
            "Epoch 68/70\n",
            "7/7 [==============================] - 0s 5ms/step - loss: 11.2067 - val_loss: 15.1628\n",
            "Epoch 69/70\n",
            "7/7 [==============================] - 0s 4ms/step - loss: 10.8178 - val_loss: 16.6029\n",
            "Epoch 70/70\n",
            "7/7 [==============================] - 0s 5ms/step - loss: 11.4398 - val_loss: 15.7467\n"
          ],
          "name": "stdout"
        }
      ]
    },
    {
      "cell_type": "markdown",
      "metadata": {
        "id": "TYavzcp2nQIF"
      },
      "source": [
        "## 結果與評估"
      ]
    },
    {
      "cell_type": "markdown",
      "metadata": {
        "id": "G7VCwUbLNY0g"
      },
      "source": [
        "<code>model.evaluate (*input*, *ex_output*)</code><br><br>\n",
        "先以 *input* 為輸入用訓練好的 model 做推論，然後和 *ex_output* (期望正確的輸出) 做比較，算出誤差後回傳"
      ]
    },
    {
      "cell_type": "code",
      "metadata": {
        "id": "UXi3KN99NY0g",
        "colab": {
          "base_uri": "https://localhost:8080/"
        },
        "outputId": "9b546798-9c1d-4c7c-e12a-43c1dd2fa688"
      },
      "source": [
        "# 訓練結果評估\n",
        "train_result = model.evaluate(train_i, train_o)\n",
        "test_result = model.evaluate(test_i, test_o)\n",
        "print(\"-----------\")\n",
        "print(\"train loss:\", train_result)\n",
        "print(\"test loss:\", test_result)"
      ],
      "execution_count": 53,
      "outputs": [
        {
          "output_type": "stream",
          "text": [
            "9/9 [==============================] - 0s 1ms/step - loss: 12.3645\n",
            "4/4 [==============================] - 0s 2ms/step - loss: 12.5114\n",
            "-----------\n",
            "train loss: 12.364471435546875\n",
            "test loss: 12.511361122131348\n"
          ],
          "name": "stdout"
        }
      ]
    },
    {
      "cell_type": "code",
      "metadata": {
        "id": "7GKwWIaiNY0h",
        "colab": {
          "base_uri": "https://localhost:8080/",
          "height": 297
        },
        "outputId": "fd548f70-932c-4853-ed2c-9a533c8a406a"
      },
      "source": [
        "# 訓練過程 (損失) 誤差變化\n",
        " \n",
        "plt.plot(history.history['loss'])\n",
        "plt.plot(history.history['val_loss'])\n",
        "plt.ylabel(\"loss\")\n",
        "plt.title(\"loss history\")\n",
        "plt.legend(['train_loss', 'validation_loss'], loc = 'upper left')\n",
        "plt.xlabel(\"epoch\")\n",
        " \n",
        "plt.tight_layout()\n",
        "plt.show()"
      ],
      "execution_count": 54,
      "outputs": [
        {
          "output_type": "display_data",
          "data": {
            "image/png": "[encoded data removed]",
            "text/plain": [
              "<Figure size 432x288 with 1 Axes>"
            ]
          },
          "metadata": {
            "tags": [],
            "needs_background": "light"
          }
        }
      ]
    },
    {
      "cell_type": "markdown",
      "metadata": {
        "id": "6LEXmcNRNY0h"
      },
      "source": [
        "***繪製某科成績的推論結果分佈***"
      ]
    },
    {
      "cell_type": "code",
      "metadata": {
        "id": "KfwrYTAZnZ2P",
        "colab": {
          "base_uri": "https://localhost:8080/",
          "height": 241
        },
        "outputId": "45d21b78-913e-4e37-89f4-cafd9993adb6"
      },
      "source": [
        "# 設定圖的尺寸\n",
        "plt.figure(figsize=(16, 4)) # 寬, 高\n",
        "\n",
        "# 取得測試資料的推論結果\n",
        "inference_o = model.predict(test_i) # inference_o 會是一個 numpy (二維) 陣列 (np_array)\n",
        "# 繪製推論結果\n",
        "plt.scatter(list(range(len(inference_o))), inference_o[:, 1], c=\"blue\", alpha=0.8)\n",
        "# 繪製原來正確結果\n",
        "plt.scatter(list(range(len(test_o))), test_o['Math'], c=\"orange\", alpha=0.8)\n",
        "\n",
        "# 誤差\n",
        "# plt.scatter(list(range(len(test_o))), abs(inference_o[:, 1] - test_o['Math']), c=\"red\", alpha=0.3)\n",
        "\n",
        "plt.show ()"
      ],
      "execution_count": 55,
      "outputs": [
        {
          "output_type": "display_data",
          "data": {
            "image/png": "[encoded data removed]",
            "text/plain": [
              "<Figure size 1152x288 with 1 Axes>"
            ]
          },
          "metadata": {
            "tags": [],
            "needs_background": "light"
          }
        }
      ]
    },
    {
      "cell_type": "markdown",
      "metadata": {
        "id": "i-BV-uOXNY0h"
      },
      "source": [
        "如果 inference_o 是一個 np_array<br>\n",
        "<code>inference \b\\[:,0\\]</code> 是 0 那一欄所有 (:) 列的內容 "
      ]
    },
    {
      "cell_type": "code",
      "metadata": {
        "id": "_kY4zXqlNY0h",
        "colab": {
          "base_uri": "https://localhost:8080/",
          "height": 809
        },
        "outputId": "e93b2bbc-f8e5-43cd-e90b-6b7c7259f15d"
      },
      "source": [
        "# 推論結果偏離分佈直方圖\n",
        "import seaborn as sns\n",
        "\n",
        "for i, j in zip ([0,1,2], ['Tech','Math','Eng']):\n",
        "  error = inference_o[:,i] - test_o[j].to_numpy() # ... 換成測試集原來正確結果的變數名稱\n",
        "  # 推論結果偏離直方圖\n",
        "  sns.histplot(error, kde=True, bins=20)\n",
        "  plt.xlim(-20, 20)\n",
        "  plt.title(j)\n",
        "  plt.show()\n"
      ],
      "execution_count": 57,
      "outputs": [
        {
          "output_type": "display_data",
          "data": {
            "image/png": "[encoded data removed]",
            "text/plain": [
              "<Figure size 432x288 with 1 Axes>"
            ]
          },
          "metadata": {
            "tags": [],
            "needs_background": "light"
          }
        },
        {
          "output_type": "display_data",
          "data": {
            "image/png": "[encoded data removed]",
            "text/plain": [
              "<Figure size 432x288 with 1 Axes>"
            ]
          },
          "metadata": {
            "tags": [],
            "needs_background": "light"
          }
        },
        {
          "output_type": "display_data",
          "data": {
            "image/png": "[encoded data removed]",
            "text/plain": [
              "<Figure size 432x288 with 1 Axes>"
            ]
          },
          "metadata": {
            "tags": [],
            "needs_background": "light"
          }
        }
      ]
    }
  ]
}